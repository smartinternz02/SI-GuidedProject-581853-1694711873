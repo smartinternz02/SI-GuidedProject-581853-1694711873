{
  "nbformat": 4,
  "nbformat_minor": 0,
  "metadata": {
    "colab": {
      "provenance": []
    },
    "kernelspec": {
      "name": "python3",
      "display_name": "Python 3"
    },
    "language_info": {
      "name": "python"
    }
  },
  "cells": [
    {
      "cell_type": "code",
      "execution_count": null,
      "metadata": {
        "colab": {
          "base_uri": "https://localhost:8080/"
        },
        "id": "jSzgfuN91YZo",
        "outputId": "5cadb5a6-fb3c-476f-9b24-5c288eebcfba"
      },
      "outputs": [
        {
          "output_type": "stream",
          "name": "stdout",
          "text": [
            "   Feature_1  Feature_2  Feature_3  Feature_4\n",
            "0   0.374540   0.950714   0.731994   0.598658\n",
            "1   0.156019   0.155995   0.058084   0.866176\n",
            "2   0.601115   0.708073   0.020584   0.969910\n",
            "3   0.832443   0.212339   0.181825   0.183405\n"
          ]
        }
      ],
      "source": [
        "import numpy as np\n",
        "import pandas as pd\n",
        "\n",
        "# Define the dimensions of the DataFrame\n",
        "num_features = 4\n",
        "num_observations = 4\n",
        "\n",
        "# Generate random values using NumPy\n",
        "random_data = np.random.rand(num_observations, num_features)\n",
        "\n",
        "# Create a DataFrame\n",
        "df = pd.DataFrame(random_data, columns=[f\"Feature_{i+1}\" for i in range(num_features)])\n",
        "\n",
        "# Print the DataFrame\n",
        "print(df)\n"
      ]
    },
    {
      "cell_type": "code",
      "source": [
        "new_column_names = {'Feature_1': 'random value 1', 'Feature_2': 'random value 2','Feature_3':'random value 3','Feature_4':'random value 4'}\n",
        "df.rename(columns=new_column_names, inplace=True)\n",
        "print(df)"
      ],
      "metadata": {
        "colab": {
          "base_uri": "https://localhost:8080/"
        },
        "id": "TdQhFwO33mx9",
        "outputId": "ff4efd3b-5148-48fc-83a4-f7a88b20648e"
      },
      "execution_count": null,
      "outputs": [
        {
          "output_type": "stream",
          "name": "stdout",
          "text": [
            "   random value 1  random value 2  random value 3  random value 4\n",
            "0        0.374540        0.950714        0.731994        0.598658\n",
            "1        0.156019        0.155995        0.058084        0.866176\n",
            "2        0.601115        0.708073        0.020584        0.969910\n",
            "3        0.832443        0.212339        0.181825        0.183405\n"
          ]
        }
      ]
    },
    {
      "cell_type": "code",
      "source": [
        "# Get descriptive statistics using .describe()\n",
        "statistics = df.describe()\n",
        "\n",
        "# Print the descriptive statistics\n",
        "print(statistics)"
      ],
      "metadata": {
        "colab": {
          "base_uri": "https://localhost:8080/"
        },
        "id": "xM0qfO3U5VVk",
        "outputId": "6a018e7e-d47a-44af-8941-5d00374122ee"
      },
      "execution_count": null,
      "outputs": [
        {
          "output_type": "stream",
          "name": "stdout",
          "text": [
            "       random value 1  random value 2  random value 3  random value 4\n",
            "count        4.000000        4.000000        4.000000        4.000000\n",
            "mean         0.491029        0.506780        0.248122        0.654537\n",
            "std          0.291252        0.386153        0.329856        0.350875\n",
            "min          0.156019        0.155995        0.020584        0.183405\n",
            "25%          0.319910        0.198253        0.048709        0.494845\n",
            "50%          0.487828        0.460206        0.119954        0.732417\n",
            "75%          0.658947        0.768733        0.319367        0.892110\n",
            "max          0.832443        0.950714        0.731994        0.969910\n"
          ]
        }
      ]
    },
    {
      "cell_type": "code",
      "source": [
        "# Introduce some missing values for demonstration\n",
        "df.iloc[1, 2] = np.nan\n",
        "df.iloc[3, 0] = np.nan\n",
        "\n",
        "# Check for null values\n",
        "null_values = df.isnull()\n",
        "\n",
        "# Print null values\n",
        "print(\"Null Values:\")\n",
        "print(null_values)\n",
        "\n",
        "# Find data types of columns\n",
        "data_types = df.dtypes\n",
        "\n",
        "# Print data types\n",
        "print(\"\\nData Types:\")\n",
        "print(data_types)"
      ],
      "metadata": {
        "colab": {
          "base_uri": "https://localhost:8080/"
        },
        "id": "HpIkba3K5400",
        "outputId": "4f905e34-2657-40b2-d5b1-f51848c2bbe7"
      },
      "execution_count": null,
      "outputs": [
        {
          "output_type": "stream",
          "name": "stdout",
          "text": [
            "Null Values:\n",
            "   random value 1  random value 2  random value 3  random value 4\n",
            "0           False           False           False           False\n",
            "1           False           False            True           False\n",
            "2           False           False           False           False\n",
            "3            True           False           False           False\n",
            "\n",
            "Data Types:\n",
            "random value 1    float64\n",
            "random value 2    float64\n",
            "random value 3    float64\n",
            "random value 4    float64\n",
            "dtype: object\n"
          ]
        }
      ]
    },
    {
      "cell_type": "code",
      "source": [
        "# Access \"Random Value 2\" and \"Random Value 3\" using .loc[]\n",
        "random_value_2_loc = df.loc[:, \"random value 2\"]\n",
        "random_value_3_loc = df.loc[:, \"random value 3\"]\n",
        "\n",
        "# Access \"Random Value 2\" and \"Random Value 3\" using .iloc[]\n",
        "random_value_2_iloc = df.iloc[:, 1]  # Index 1 corresponds to \"Random Value 2\"\n",
        "random_value_3_iloc = df.iloc[:, 2]  # Index 2 corresponds to \"Random Value 3\"\n",
        "\n",
        "# Print the values\n",
        "print(\"Random Value 2 using .loc[]:\")\n",
        "print(random_value_2_loc)\n",
        "\n",
        "print(\"\\nRandom Value 3 using .loc[]:\")\n",
        "print(random_value_3_loc)\n",
        "\n",
        "print(\"\\nRandom Value 2 using .iloc[]:\")\n",
        "print(random_value_2_iloc)\n",
        "\n",
        "print(\"\\nRandom Value 3 using .iloc[]:\")\n",
        "print(random_value_3_iloc)"
      ],
      "metadata": {
        "colab": {
          "base_uri": "https://localhost:8080/"
        },
        "id": "6geyzR9m6qWm",
        "outputId": "bc47b11e-cb21-451e-9395-dacfb18e9069"
      },
      "execution_count": null,
      "outputs": [
        {
          "output_type": "stream",
          "name": "stdout",
          "text": [
            "Random Value 2 using .loc[]:\n",
            "0    0.950714\n",
            "1    0.155995\n",
            "2    0.708073\n",
            "3    0.212339\n",
            "Name: random value 2, dtype: float64\n",
            "\n",
            "Random Value 3 using .loc[]:\n",
            "0    0.731994\n",
            "1         NaN\n",
            "2    0.020584\n",
            "3    0.181825\n",
            "Name: random value 3, dtype: float64\n",
            "\n",
            "Random Value 2 using .iloc[]:\n",
            "0    0.950714\n",
            "1    0.155995\n",
            "2    0.708073\n",
            "3    0.212339\n",
            "Name: random value 2, dtype: float64\n",
            "\n",
            "Random Value 3 using .iloc[]:\n",
            "0    0.731994\n",
            "1         NaN\n",
            "2    0.020584\n",
            "3    0.181825\n",
            "Name: random value 3, dtype: float64\n"
          ]
        }
      ]
    }
  ]
}